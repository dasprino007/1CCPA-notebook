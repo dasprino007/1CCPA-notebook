{
 "cells": [
  {
   "cell_type": "code",
   "execution_count": 7,
   "id": "c964badd-373b-429a-8d83-f86dcb57e730",
   "metadata": {},
   "outputs": [
    {
     "name": "stdin",
     "output_type": "stream",
     "text": [
      "Coloque um valor em reais : 10\n"
     ]
    },
    {
     "name": "stdout",
     "output_type": "stream",
     "text": [
      "valor em real 10.00\n",
      "valor em dolar 1.89 \n",
      "valor em euro 1.59\n",
      "valor em peso argentino 2775.00\n",
      "valor em libra 1.38\n",
      "valor em iene 276.60\n"
     ]
    }
   ],
   "source": [
    "# exercicio 1\n",
    "real =  float(input(\"Coloque um valor em reais :\"))\n",
    "\n",
    "dolar = real / 5.30\n",
    "euro = real / 6.28\n",
    "peso_argentino = real * 277.5\n",
    "libra = real / 7.23\n",
    "iene = real * 27.66 \n",
    "\n",
    "print(f\"valor em real {real:.2f}\")\n",
    "print(f\"valor em dolar {dolar:.2f} \")\n",
    "print(f\"valor em euro {euro:.2f}\")\n",
    "print(f\"valor em peso argentino {peso_argentino:.2f}\")\n",
    "print(f\"valor em libra {libra:.2f}\")\n",
    "print(f\"valor em iene {iene:.2f}\")\n"
   ]
  },
  {
   "cell_type": "code",
   "execution_count": 23,
   "id": "ea13d63b-7762-4e39-b34e-76dabb029369",
   "metadata": {},
   "outputs": [
    {
     "name": "stdin",
     "output_type": "stream",
     "text": [
      "Coloque um numero de 0 a 999 :  526\n"
     ]
    },
    {
     "name": "stdout",
     "output_type": "stream",
     "text": [
      "centena : 500\n",
      "dezena : 20\n",
      "unidade : 6\n"
     ]
    }
   ],
   "source": [
    "# exercicio 2\n",
    "num = int(input(\"Coloque um numero de 0 a 999 : \"))\n",
    "\n",
    "centena = 0\n",
    "dezena = 0\n",
    "unidade = 0\n",
    "\n",
    "if num >= 100 :\n",
    "    centena = (num // 100) * 100\n",
    "    num -= centena\n",
    "\n",
    "if num >= 10 :\n",
    "    dezena = (num // 10) * 10\n",
    "    num -= dezena\n",
    "\n",
    "if num >= 1 :\n",
    "    unidade = num\n",
    "\n",
    "print(f\"centena : {centena}\")\n",
    "print(f\"dezena : {dezena}\")\n",
    "print(f\"unidade : {unidade}\")"
   ]
  },
  {
   "cell_type": "code",
   "execution_count": 27,
   "id": "74ff2d86-52d7-470b-bf67-beb1b80e00f5",
   "metadata": {},
   "outputs": [
    {
     "name": "stdin",
     "output_type": "stream",
     "text": [
      "quantos anos você tem? : 18\n",
      "quantos meses você ja viveu? : 6\n",
      "quantos dia você ja viveu? : 2\n"
     ]
    },
    {
     "name": "stdout",
     "output_type": "stream",
     "text": [
      "Você viveu 6752 dias sua vida inteira\n"
     ]
    }
   ],
   "source": [
    "# exercicio 3\n",
    "ano = int(input(\"quantos anos você tem? :\"))\n",
    "mes = int(input(\"quantos meses você ja viveu? :\"))\n",
    "dia = int(input(\"quantos dia você ja viveu? :\"))\n",
    "\n",
    "ano_dia = ano * 365\n",
    "mes_dia = mes * 30\n",
    "\n",
    "dias = ano_dia + mes_dia + dia\n",
    "\n",
    "print(f\"Você viveu {dias} dias sua vida inteira\")"
   ]
  },
  {
   "cell_type": "code",
   "execution_count": 36,
   "id": "bba2a03c-54e3-40ab-95ce-1991784cebb4",
   "metadata": {},
   "outputs": [
    {
     "name": "stdout",
     "output_type": "stream",
     "text": [
      "você tem 18 anos, 6 meses e 2 dias\n"
     ]
    }
   ],
   "source": [
    "# exercicio 4\n",
    "dia_ano = dias // 365\n",
    "dia_mes = (dias - dia_ano * 365) // 30\n",
    "dia_dias = (dias - (dia_ano * 365) - (dia_mes * 30))\n",
    "\n",
    "print(f\"você tem {dia_ano} anos, {dia_mes} meses e {dia_dias} dias\")"
   ]
  },
  {
   "cell_type": "code",
   "execution_count": null,
   "id": "4b571cb1-1508-445e-8d78-db3e33c9280f",
   "metadata": {},
   "outputs": [],
   "source": []
  }
 ],
 "metadata": {
  "kernelspec": {
   "display_name": "Python 3 (ipykernel)",
   "language": "python",
   "name": "python3"
  },
  "language_info": {
   "codemirror_mode": {
    "name": "ipython",
    "version": 3
   },
   "file_extension": ".py",
   "mimetype": "text/x-python",
   "name": "python",
   "nbconvert_exporter": "python",
   "pygments_lexer": "ipython3",
   "version": "3.13.7"
  }
 },
 "nbformat": 4,
 "nbformat_minor": 5
}

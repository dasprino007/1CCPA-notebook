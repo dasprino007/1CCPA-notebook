{
 "cells": [
  {
   "cell_type": "code",
   "execution_count": 1,
   "id": "c964badd-373b-429a-8d83-f86dcb57e730",
   "metadata": {},
   "outputs": [
    {
     "name": "stdout",
     "output_type": "stream",
     "text": [
      "valor em real 10.00\n",
      "valor em dolar 1.90 \n",
      "valor em euro 1.60\n",
      "valor em peso argentino 2775.00\n",
      "valor em libra 1.40\n",
      "valor em iene 276.60\n"
     ]
    }
   ],
   "source": [
    "# exercicio 1\n",
    "real =  float(input(\"Coloque um valor em reais :\"))\n",
    "\n",
    "dolar = real * 0.19\n",
    "euro = real * 0.16\n",
    "peso_argentino = real * 277.5\n",
    "libra = real * 0.14 \n",
    "iene = real * 27.66 \n",
    "\n",
    "print(f\"valor em real {real:.2f}\")\n",
    "print(f\"valor em dolar {dolar:.2f} \")\n",
    "print(f\"valor em euro {euro:.2f}\")\n",
    "print(f\"valor em peso argentino {peso_argentino:.2f}\")\n",
    "print(f\"valor em libra {libra:.2f}\")\n",
    "print(f\"valor em iene {iene:.2f}\")"
   ]
  },
  {
   "cell_type": "code",
   "execution_count": 2,
   "id": "ea13d63b-7762-4e39-b34e-76dabb029369",
   "metadata": {},
   "outputs": [
    {
     "name": "stdout",
     "output_type": "stream",
     "text": [
      "centena : 500\n",
      "dezena : 20\n",
      "unidade : 6\n"
     ]
    }
   ],
   "source": [
    "# exercicio 2\n",
    "num = int(input(\"Coloque um numero de 0 a 999 : \"))\n",
    "\n",
    "centena = 0\n",
    "dezena = 0\n",
    "unidade = 0\n",
    "\n",
    "centena = (num // 100) * 100\n",
    "num -= centena\n",
    "\n",
    "dezena = (num // 10) * 10\n",
    "num -= dezena\n",
    "\n",
    "unidade = num\n",
    "\n",
    "print(f\"centena : {centena}\")\n",
    "print(f\"dezena : {dezena}\")\n",
    "print(f\"unidade : {unidade}\")"
   ]
  },
  {
   "cell_type": "code",
   "execution_count": 3,
   "id": "74ff2d86-52d7-470b-bf67-beb1b80e00f5",
   "metadata": {},
   "outputs": [
    {
     "name": "stdout",
     "output_type": "stream",
     "text": [
      "Você viveu 11132 dias sua vida inteira\n"
     ]
    }
   ],
   "source": [
    "# exercicio 3\n",
    "ano = int(input(\"quantos anos você tem? :\"))\n",
    "mes = int(input(\"quantos meses você ja viveu? :\"))\n",
    "dia = int(input(\"quantos dia você ja viveu? :\"))\n",
    "\n",
    "ano_dia = ano * 365\n",
    "mes_dia = mes * 30\n",
    "\n",
    "dias = ano_dia + mes_dia + dia\n",
    "\n",
    "print(f\"Você viveu {dias} dias sua vida inteira\")"
   ]
  },
  {
   "cell_type": "code",
   "execution_count": 4,
   "id": "bba2a03c-54e3-40ab-95ce-1991784cebb4",
   "metadata": {},
   "outputs": [
    {
     "name": "stdout",
     "output_type": "stream",
     "text": [
      "você tem 30 anos, 6 meses e 2 dias\n"
     ]
    }
   ],
   "source": [
    "# exercicio 4\n",
    "dias = int(input(\"quantos dias você viveu? :\"))\n",
    "\n",
    "dia_ano = dias // 365\n",
    "dia_mes = (dias - (dia_ano * 365)) // 30\n",
    "dia_dias = (dias - (dia_ano * 365) - (dia_mes * 30))\n",
    "\n",
    "print(f\"você tem {dia_ano} anos, {dia_mes} meses e {dia_dias} dias\")"
   ]
  }
 ],
 "metadata": {
  "kernelspec": {
   "display_name": "Orange",
   "language": "python",
   "name": "python3"
  },
  "language_info": {
   "codemirror_mode": {
    "name": "ipython",
    "version": 3
   },
   "file_extension": ".py",
   "mimetype": "text/x-python",
   "name": "python",
   "nbconvert_exporter": "python",
   "pygments_lexer": "ipython3",
   "version": "3.11.8"
  }
 },
 "nbformat": 4,
 "nbformat_minor": 5
}

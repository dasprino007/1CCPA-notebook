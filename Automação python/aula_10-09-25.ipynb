{
 "cells": [
  {
   "cell_type": "code",
   "execution_count": 1,
   "id": "e4cd23f8-caf2-4b2c-8e74-e56635506203",
   "metadata": {},
   "outputs": [
    {
     "name": "stdin",
     "output_type": "stream",
     "text": [
      "por favor coloque seu nome : diego\n"
     ]
    },
    {
     "name": "stdout",
     "output_type": "stream",
     "text": [
      "seu nome é diego\n"
     ]
    }
   ],
   "source": [
    "#exercicio 1\n",
    "nome = input(\"por favor coloque seu nome :\")\n",
    "print(f\"seu nome é {nome}\")"
   ]
  },
  {
   "cell_type": "code",
   "execution_count": 2,
   "id": "6b892cd7-3fd6-47fb-84de-15377e311013",
   "metadata": {},
   "outputs": [
    {
     "name": "stdin",
     "output_type": "stream",
     "text": [
      "Coloque o dia que nasceu : 10\n",
      "por favor o mes em que você nasceu : 3\n",
      "por favor seu ano de nascimento : 2000\n"
     ]
    },
    {
     "name": "stdout",
     "output_type": "stream",
     "text": [
      "sua data de nasicimento é 10/3/2000\n",
      "você nasceu no dia 10 de março\n"
     ]
    }
   ],
   "source": [
    "# exercicio 2\n",
    "NOME_DOS_MESES = [\"janeiro\",\"fevereiro\",\"março\",\"abril\",\"maio\",\"junho\",\"julho\",\"agosto\",\"setembro\",\"outubro\",\"novembro\",\"dezembro\"]\n",
    "\n",
    "dia = int(input(\"Coloque o dia que nasceu :\"))\n",
    "mes = int(input(\"por favor o mes em que você nasceu :\"))\n",
    "ano = int(input(\"por favor seu ano de nascimento :\"))\n",
    "\n",
    "print(f\"sua data de nasicimento é {dia}/{mes}/{ano}\")\n",
    "print(f\"você nasceu no dia {dia} de {NOME_DOS_MESES[mes - 1]}\")\n"
   ]
  },
  {
   "cell_type": "code",
   "execution_count": 3,
   "id": "853065e4-12ec-4134-a63a-4e83c894420b",
   "metadata": {},
   "outputs": [
    {
     "name": "stdin",
     "output_type": "stream",
     "text": [
      "coloque um numero por favor 10\n",
      "coloque um outro numero por favor 5\n"
     ]
    },
    {
     "name": "stdout",
     "output_type": "stream",
     "text": [
      "5\n"
     ]
    }
   ],
   "source": [
    "# exercicio 3\n",
    "a = int(input(\"coloque um numero por favor\"))\n",
    "b = int(input(\"coloque um outro numero por favor\"))\n",
    "\n",
    "print(a-b)"
   ]
  }
 ],
 "metadata": {
  "kernelspec": {
   "display_name": "Python 3 (ipykernel)",
   "language": "python",
   "name": "python3"
  },
  "language_info": {
   "codemirror_mode": {
    "name": "ipython",
    "version": 3
   },
   "file_extension": ".py",
   "mimetype": "text/x-python",
   "name": "python",
   "nbconvert_exporter": "python",
   "pygments_lexer": "ipython3",
   "version": "3.13.7"
  }
 },
 "nbformat": 4,
 "nbformat_minor": 5
}

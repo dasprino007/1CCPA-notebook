{
 "cells": [
  {
   "cell_type": "code",
   "execution_count": 1,
   "metadata": {
    "colab": {
     "base_uri": "https://localhost:8080/"
    },
    "executionInfo": {
     "elapsed": 23,
     "status": "ok",
     "timestamp": 1757945052817,
     "user": {
      "displayName": "Diego Leite Asprino",
      "userId": "05863200736712860046"
     },
     "user_tz": 180
    },
    "id": "-7c_Djrmhect",
    "outputId": "9785c8d5-b453-4262-e5f4-be1b37cb3b68"
   },
   "outputs": [
    {
     "name": "stdout",
     "output_type": "stream",
     "text": [
      "media   : 80.0\n",
      "mediana : 80.0\n"
     ]
    }
   ],
   "source": [
    "# exercicio 1\n",
    "import numpy as np\n",
    "\n",
    "nums = [75, 80, 95, 60, 85, 70, 100, 90, 65, 80]\n",
    "\n",
    "media = np.mean(nums)\n",
    "mediana = np.median(nums)\n",
    "\n",
    "print(f\"media   : {media}\")\n",
    "print(f\"mediana : {mediana}\")"
   ]
  },
  {
   "cell_type": "markdown",
   "metadata": {
    "id": "x8zY_qM4ovns"
   },
   "source": [
    "1a) Usando codigo em python eu descobri que a mediana e media são respectivamente 80."
   ]
  },
  {
   "cell_type": "markdown",
   "metadata": {
    "id": "JNWXM-Huo02r"
   },
   "source": [
    "1b)A media demonstra que nessa amostra a sala teve um meio termo de 80 significando que a maioria dos alunos estão indo muito bem na sala de aula. A mediana representa o numero central dos dados ordenados, significando que metade da sala ou teve uma nota maior ou menor que 80 significando que 50% da sala tirou mais de 80% nas notas"
   ]
  },
  {
   "cell_type": "code",
   "execution_count": 2,
   "metadata": {
    "colab": {
     "base_uri": "https://localhost:8080/"
    },
    "executionInfo": {
     "elapsed": 54,
     "status": "ok",
     "timestamp": 1757944197056,
     "user": {
      "displayName": "Diego Leite Asprino",
      "userId": "05863200736712860046"
     },
     "user_tz": 180
    },
    "id": "G92uioMinfYm",
    "outputId": "b9d8d852-d58d-4573-d246-949b841495aa"
   },
   "outputs": [
    {
     "name": "stdout",
     "output_type": "stream",
     "text": [
      "variança amostral : 18.67\n",
      "Desvio padrão amostral : 4.32\n"
     ]
    }
   ],
   "source": [
    "#exercicio 3\n",
    "import numpy as np\n",
    "\n",
    "nums = [28, 30, 32, 29, 31, 40]\n",
    "\n",
    "varianca = np.var(nums, ddof=1)\n",
    "desvio_padrao = np.std(nums, ddof=1)\n",
    "\n",
    "print(f\"variança amostral : {varianca:.2f}\")\n",
    "print(f\"Desvio padrão amostral : {desvio_padrao:.2f}\")"
   ]
  },
  {
   "cell_type": "markdown",
   "metadata": {
    "id": "6f9uLlKfo-lM"
   },
   "source": [
    "Usando python a variança amostral é de 18,67 e desvio padrão é de 4,32.\n",
    "\n",
    "Sim porque a variança na amostra esta bastante alta demonstrando uma grande diferença entre os numeros e o desvio padrão esta bem alto significando que a uma grande irregularidade nos dados fazendo que a gente não consiga usar media aritimetica como uma eficiente de analisar os dados."
   ]
  },
  {
   "cell_type": "code",
   "execution_count": 3,
   "metadata": {
    "colab": {
     "base_uri": "https://localhost:8080/"
    },
    "executionInfo": {
     "elapsed": 18,
     "status": "ok",
     "timestamp": 1757945087541,
     "user": {
      "displayName": "Diego Leite Asprino",
      "userId": "05863200736712860046"
     },
     "user_tz": 180
    },
    "id": "Xcyodb9np4Uz",
    "outputId": "84675154-e6d8-4e80-ee2d-a17e6aebebcd"
   },
   "outputs": [
    {
     "name": "stdout",
     "output_type": "stream",
     "text": [
      "soma : 15000\n",
      "dividiu : 3.75\n",
      "calculando a media aritimetica\n",
      "media   : 3000.0\n"
     ]
    }
   ],
   "source": [
    "#ex 4\n",
    "import numpy as np\n",
    "\n",
    "nums = [2000, 2500, 3000, 3500, 4000]\n",
    "\n",
    "soma = sum(nums)\n",
    "divicao = soma / 4000\n",
    "# vendo se os calculos do alunos estão certos\n",
    "print(f\"soma : {soma}\")\n",
    "print(f\"dividiu : {divicao}\")\n",
    "\n",
    "# calculando a media aritimetica\n",
    "print(\"calculando a media aritimetica\")\n",
    "media = np.mean(nums)\n",
    "print(f\"media   : {media}\")"
   ]
  },
  {
   "cell_type": "markdown",
   "metadata": {
    "id": "F5mBZcm_rMHk"
   },
   "source": [
    "4a) o erro no procedimento foi não tentar usar a media aritmética para calcular a media mas tentar pegar a soma dos salarios e dividir pelo maior numero"
   ]
  },
  {
   "cell_type": "markdown",
   "metadata": {
    "id": "Q-TjCMVxrz_R"
   },
   "source": [
    "4b) o jeito certo de calcular a media seria usando a media aritimetica, que seria somar tudo e dividir pelo numero de amostras\n",
    "\n",
    "usando python eu descobri que a media aritimetica seria de 3000 reais o salario medio"
   ]
  },
  {
   "cell_type": "code",
   "execution_count": 4,
   "metadata": {
    "colab": {
     "base_uri": "https://localhost:8080/"
    },
    "executionInfo": {
     "elapsed": 89,
     "status": "ok",
     "timestamp": 1757945241352,
     "user": {
      "displayName": "Diego Leite Asprino",
      "userId": "05863200736712860046"
     },
     "user_tz": 180
    },
    "id": "U2JLzPwQr_2Q",
    "outputId": "673cd618-3c94-440d-9c8e-5877b6a6a372"
   },
   "outputs": [
    {
     "name": "stdout",
     "output_type": "stream",
     "text": [
      "mediana : 70.0\n"
     ]
    }
   ],
   "source": [
    "# exercicio 5\n",
    "import numpy as np\n",
    "\n",
    "nums =  [50, 60, 70, 80, 90, 100, 40]\n",
    "\n",
    "mediana = np.median(nums)\n",
    "\n",
    "print(f\"mediana : {mediana}\")"
   ]
  },
  {
   "cell_type": "code",
   "execution_count": 5,
   "metadata": {
    "colab": {
     "base_uri": "https://localhost:8080/"
    },
    "executionInfo": {
     "elapsed": 17,
     "status": "ok",
     "timestamp": 1757945286198,
     "user": {
      "displayName": "Diego Leite Asprino",
      "userId": "05863200736712860046"
     },
     "user_tz": 180
    },
    "id": "Z6YGHwids_TV",
    "outputId": "b127c376-f532-4435-8329-3bdd9cfd8c34"
   },
   "outputs": [
    {
     "name": "stdout",
     "output_type": "stream",
     "text": [
      "media   : 5500.0\n",
      "mediana : 3100.0\n"
     ]
    }
   ],
   "source": [
    "# exercicio 6\n",
    "import numpy as np\n",
    "\n",
    "nums =  [2500, 2800, 3000, 3200, 3500, 18000]\n",
    "\n",
    "media = np.mean(nums)\n",
    "mediana = np.median(nums)\n",
    "\n",
    "print(f\"media   : {media}\")\n",
    "print(f\"mediana : {mediana}\")"
   ]
  },
  {
   "cell_type": "markdown",
   "metadata": {
    "id": "2AQy6IkLtF5r"
   },
   "source": [
    "6) usando python descobri que a media é 5500 e a mediana é 3100\n",
    "\n",
    "A media que seria melhor para descobrir a media salarial da equipe é a mediana, porque ao usarmos a media aritimitica nos percebemos que se o maior salario for muito alto ele vai aumentar a media enquanto a mediana pegue sempre o meio dos dados ordenados assim pegando uma media muito melhor porque o maior numero não ira variar a media."
   ]
  },
  {
   "cell_type": "code",
   "execution_count": 6,
   "metadata": {
    "colab": {
     "base_uri": "https://localhost:8080/"
    },
    "executionInfo": {
     "elapsed": 28,
     "status": "ok",
     "timestamp": 1757947270961,
     "user": {
      "displayName": "Diego Leite Asprino",
      "userId": "05863200736712860046"
     },
     "user_tz": 180
    },
    "id": "g-_ns0gWuQPE",
    "outputId": "7a7b29b6-80f8-4a81-8e78-3947c1d1c46e"
   },
   "outputs": [
    {
     "name": "stdout",
     "output_type": "stream",
     "text": [
      "desvio padrão : 11.180339887498949\n"
     ]
    }
   ],
   "source": [
    "# exercicio 7\n",
    "import numpy as np\n",
    "nums = [10, 20, 30, 40]\n",
    "\n",
    "desvio = np.std(nums)\n",
    "print(f\"desvio padrão : {desvio}\")"
   ]
  },
  {
   "cell_type": "code",
   "execution_count": 7,
   "metadata": {
    "colab": {
     "base_uri": "https://localhost:8080/"
    },
    "executionInfo": {
     "elapsed": 60,
     "status": "ok",
     "timestamp": 1757945737885,
     "user": {
      "displayName": "Diego Leite Asprino",
      "userId": "05863200736712860046"
     },
     "user_tz": 180
    },
    "id": "yFqrBwtJupdr",
    "outputId": "71fefbf2-aaed-406d-e8af-bfa60e652972"
   },
   "outputs": [
    {
     "name": "stdout",
     "output_type": "stream",
     "text": [
      "variança populacional : 5.00\n"
     ]
    }
   ],
   "source": [
    "#exercicio 8\n",
    "import numpy as np\n",
    "\n",
    "nums =  [2, 4, 6, 8]\n",
    "\n",
    "varianca_pop = np.var(nums)\n",
    "\n",
    "print(f\"variança populacional : {varianca_pop:.2f}\")"
   ]
  },
  {
   "cell_type": "code",
   "execution_count": 8,
   "metadata": {
    "colab": {
     "base_uri": "https://localhost:8080/"
    },
    "executionInfo": {
     "elapsed": 24,
     "status": "ok",
     "timestamp": 1757945887253,
     "user": {
      "displayName": "Diego Leite Asprino",
      "userId": "05863200736712860046"
     },
     "user_tz": 180
    },
    "id": "raEXg0oou-C-",
    "outputId": "7e3c6b04-0d2b-4b98-ca3b-cb4253a44539"
   },
   "outputs": [
    {
     "name": "stdout",
     "output_type": "stream",
     "text": [
      "modas : [5]\n"
     ]
    }
   ],
   "source": [
    "from statistics import multimode\n",
    "\n",
    "nums = [5, 4, 4, 3, 2, 5, 5, 4, 3, 5]\n",
    "modas = multimode(nums)\n",
    "\n",
    "print(f\"modas : {modas}\")"
   ]
  },
  {
   "cell_type": "markdown",
   "metadata": {
    "id": "HTqRvLCmva9o"
   },
   "source": [
    "usando python eu descobri que a moda é 5 isso é porque a moda é numero que mais se repete nos dados sendo o numero 5 que repete 4 vezes."
   ]
  },
  {
   "cell_type": "code",
   "execution_count": 5,
   "metadata": {
    "colab": {
     "base_uri": "https://localhost:8080/"
    },
    "executionInfo": {
     "elapsed": 24,
     "status": "ok",
     "timestamp": 1757946497376,
     "user": {
      "displayName": "Diego Leite Asprino",
      "userId": "05863200736712860046"
     },
     "user_tz": 180
    },
    "id": "inzXai70vugM",
    "outputId": "014d4c39-97a2-4684-8893-82de73d8674a"
   },
   "outputs": [
    {
     "name": "stdout",
     "output_type": "stream",
     "text": [
      "   pedidos_dia  tempo_entrega  avaliacao_cliente\n",
      "0           29           21.4                  5\n",
      "1           31           44.7                  4\n",
      "2           29           42.6                  2\n",
      "3           18           45.7                  2\n",
      "4           23           56.5                  5\n"
     ]
    }
   ],
   "source": [
    "#exercicio 9\n",
    "\n",
    "import pandas as pd\n",
    "import numpy as np\n",
    "\n",
    "csv = pd.read_csv(\"datasets/dados_entregas(in).csv\", sep=\",\")\n",
    "\n",
    "print(csv.head())\n"
   ]
  },
  {
   "cell_type": "markdown",
   "metadata": {
    "id": "wSKRJRubw3K6"
   },
   "source": []
  },
  {
   "cell_type": "code",
   "execution_count": 6,
   "metadata": {
    "colab": {
     "base_uri": "https://localhost:8080/"
    },
    "executionInfo": {
     "elapsed": 33,
     "status": "ok",
     "timestamp": 1757946889208,
     "user": {
      "displayName": "Diego Leite Asprino",
      "userId": "05863200736712860046"
     },
     "user_tz": 180
    },
    "id": "aCkkRcNxww-Z",
    "outputId": "e5828212-abf1-4684-ba0d-d418cc554ee5"
   },
   "outputs": [
    {
     "name": "stdout",
     "output_type": "stream",
     "text": [
      "quantidade de pedidos realizados : 148\n",
      "O tempo médio necessário para completar cada entrega  : 42.04 minutos\n",
      "A variança populacional tempo necessário para completar cada entrega  : 80.87\n",
      "A desvio padrão populacional tempo necessário para completar cada entrega  : 8.99\n",
      "media aritimetica da sastifção ao cliente : 3.78\n",
      "mediana da sastifção ao cliente : 4.0\n"
     ]
    }
   ],
   "source": [
    "pedidos_dia = csv['pedidos_dia']\n",
    "tempo_media = np.mean(csv['tempo_entrega'])\n",
    "var_tempo = np.var(csv['tempo_entrega'])\n",
    "desvio_tempo = np.std(csv['tempo_entrega'])\n",
    "\n",
    "print(f\"quantidade de pedidos realizados : {len(pedidos_dia)}\")\n",
    "print(f\"O tempo médio necessário para completar cada entrega  : {tempo_media:.2f} minutos\")\n",
    "print(f\"A variança populacional tempo necessário para completar cada entrega  : {var_tempo:.2f}\")\n",
    "print(f\"A desvio padrão populacional tempo necessário para completar cada entrega  : {desvio_tempo:.2f}\")\n",
    "print(f\"media aritimetica da sastifção ao cliente : {np.mean(csv['avaliacao_cliente']):.2f}\")\n",
    "print(f\"mediana da sastifção ao cliente : {np.median(csv['avaliacao_cliente'])}\")\n"
   ]
  },
  {
   "cell_type": "markdown",
   "metadata": {
    "id": "1vm7o5dXy9Q7"
   },
   "source": [
    "link do python: https://colab.research.google.com/drive/1Sus-x5Kw_h8REJjcyLorSUULtHtolmKE?usp=sharing\n",
    "\n",
    "Olhando para a avaliação dos clientes sua media e mediana que respectivamente são 3,78 e 4 não estão tão diferentes demosntrando uma alta satisfação dos clientes, com tudo a variança populacional e desvião padrão estçao bem altos e assim a media aritimetica não é uma boa forma de ver a media então eu investiria no aumento da frota e na melhoria das rotas"
   ]
  }
 ],
 "metadata": {
  "colab": {
   "authorship_tag": "ABX9TyNPQ33e23Q16XD5B4jLFHjf",
   "provenance": []
  },
  "kernelspec": {
   "display_name": "Python 3 (ipykernel)",
   "language": "python",
   "name": "python3"
  },
  "language_info": {
   "codemirror_mode": {
    "name": "ipython",
    "version": 3
   },
   "file_extension": ".py",
   "mimetype": "text/x-python",
   "name": "python",
   "nbconvert_exporter": "python",
   "pygments_lexer": "ipython3",
   "version": "3.13.7"
  }
 },
 "nbformat": 4,
 "nbformat_minor": 4
}

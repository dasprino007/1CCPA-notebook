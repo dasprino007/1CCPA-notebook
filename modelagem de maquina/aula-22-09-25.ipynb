{
 "cells": [
  {
   "cell_type": "markdown",
   "id": "4adc7170-db35-4076-b976-3abeed58db1b",
   "metadata": {},
   "source": [
    "# Separatriz"
   ]
  },
  {
   "cell_type": "code",
   "execution_count": 17,
   "id": "99d4f9a7-649e-4b2b-b473-073eb3ded656",
   "metadata": {},
   "outputs": [],
   "source": [
    "# imports\n",
    "import numpy as np\n",
    "import pandas as pd"
   ]
  },
  {
   "cell_type": "code",
   "execution_count": 18,
   "id": "c29447b5-31cd-41ba-a281-297d4f8a9afb",
   "metadata": {},
   "outputs": [
    {
     "name": "stdout",
     "output_type": "stream",
     "text": [
      "\n",
      "    q1 : 20.0\n",
      "    q2 (Mediana) : 23.0\n",
      "    q3 : 28.0\n",
      "\n"
     ]
    }
   ],
   "source": [
    "# como calcular os quartis com numpy\n",
    "import numpy as np\n",
    "\n",
    "numeros = [12,15,20,21,23,25,28,30,35]\n",
    "\n",
    "q1 = np.percentile(numeros, 25)\n",
    "q2 = np.percentile(numeros, 50)\n",
    "q3 = np.percentile(numeros, 75)\n",
    "\n",
    "print(f\"\"\"\n",
    "    q1 : {q1}\n",
    "    q2 (Mediana) : {q2}\n",
    "    q3 : {q3}\n",
    "\"\"\")"
   ]
  },
  {
   "cell_type": "code",
   "execution_count": 19,
   "id": "8089b0f7-3bca-4098-b0d5-051587051416",
   "metadata": {
    "scrolled": true
   },
   "outputs": [
    {
     "data": {
      "text/html": [
       "<div>\n",
       "<style scoped>\n",
       "    .dataframe tbody tr th:only-of-type {\n",
       "        vertical-align: middle;\n",
       "    }\n",
       "\n",
       "    .dataframe tbody tr th {\n",
       "        vertical-align: top;\n",
       "    }\n",
       "\n",
       "    .dataframe thead th {\n",
       "        text-align: right;\n",
       "    }\n",
       "</style>\n",
       "<table border=\"1\" class=\"dataframe\">\n",
       "  <thead>\n",
       "    <tr style=\"text-align: right;\">\n",
       "      <th></th>\n",
       "      <th>Ex1_Tempo(dias)</th>\n",
       "      <th>Ex2_Salario(R$)</th>\n",
       "      <th>Ex3_Nota</th>\n",
       "      <th>Ex4_Entrega(dias)</th>\n",
       "      <th>Ex5_Espera(minutos)</th>\n",
       "    </tr>\n",
       "  </thead>\n",
       "  <tbody>\n",
       "    <tr>\n",
       "      <th>0</th>\n",
       "      <td>12.0</td>\n",
       "      <td>3200.0</td>\n",
       "      <td>45.0</td>\n",
       "      <td>2.0</td>\n",
       "      <td>10</td>\n",
       "    </tr>\n",
       "    <tr>\n",
       "      <th>1</th>\n",
       "      <td>15.0</td>\n",
       "      <td>3500.0</td>\n",
       "      <td>55.0</td>\n",
       "      <td>3.0</td>\n",
       "      <td>12</td>\n",
       "    </tr>\n",
       "    <tr>\n",
       "      <th>2</th>\n",
       "      <td>14.0</td>\n",
       "      <td>4000.0</td>\n",
       "      <td>60.0</td>\n",
       "      <td>4.0</td>\n",
       "      <td>14</td>\n",
       "    </tr>\n",
       "    <tr>\n",
       "      <th>3</th>\n",
       "      <td>18.0</td>\n",
       "      <td>4100.0</td>\n",
       "      <td>62.0</td>\n",
       "      <td>5.0</td>\n",
       "      <td>15</td>\n",
       "    </tr>\n",
       "    <tr>\n",
       "      <th>4</th>\n",
       "      <td>20.0</td>\n",
       "      <td>3900.0</td>\n",
       "      <td>64.0</td>\n",
       "      <td>6.0</td>\n",
       "      <td>16</td>\n",
       "    </tr>\n",
       "  </tbody>\n",
       "</table>\n",
       "</div>"
      ],
      "text/plain": [
       "   Ex1_Tempo(dias)  Ex2_Salario(R$)  Ex3_Nota  Ex4_Entrega(dias)  \\\n",
       "0             12.0           3200.0      45.0                2.0   \n",
       "1             15.0           3500.0      55.0                3.0   \n",
       "2             14.0           4000.0      60.0                4.0   \n",
       "3             18.0           4100.0      62.0                5.0   \n",
       "4             20.0           3900.0      64.0                6.0   \n",
       "\n",
       "   Ex5_Espera(minutos)  \n",
       "0                   10  \n",
       "1                   12  \n",
       "2                   14  \n",
       "3                   15  \n",
       "4                   16  "
      ]
     },
     "execution_count": 19,
     "metadata": {},
     "output_type": "execute_result"
    }
   ],
   "source": [
    "df = pd.read_csv(\"datasets/A05 - separatrizes_dados.csv\")\n",
    "df.head()"
   ]
  },
  {
   "cell_type": "code",
   "execution_count": 20,
   "id": "7c1ccfdc-9a9e-40f1-9365-4b2ffb75ed67",
   "metadata": {},
   "outputs": [
    {
     "name": "stdout",
     "output_type": "stream",
     "text": [
      "\n",
      "    q1 : 30.5\n",
      "    q2 (Mediana) : 54.0\n",
      "    q3 : 79.0\n",
      "\n"
     ]
    }
   ],
   "source": [
    "# exericio 1\n",
    "q1 = np.nanpercentile(df['Ex5_Espera(minutos)'], 25)\n",
    "q2 = np.nanpercentile(df['Ex5_Espera(minutos)'], 50)\n",
    "q3 = np.nanpercentile(df['Ex5_Espera(minutos)'], 75)\n",
    "\n",
    "print(f\"\"\"\n",
    "    q1 : {q1}\n",
    "    q2 (Mediana) : {q2}\n",
    "    q3 : {q3}\n",
    "\"\"\")"
   ]
  },
  {
   "cell_type": "code",
   "execution_count": 21,
   "id": "f0d2ed9e-df41-4942-95c3-28cde7e5c92d",
   "metadata": {},
   "outputs": [
    {
     "name": "stdout",
     "output_type": "stream",
     "text": [
      "\n",
      "    q1 : 4425.0\n",
      "    q2 (Mediana) : 6250.0\n",
      "    q3 : 7225.0\n",
      "\n"
     ]
    }
   ],
   "source": [
    "# exercicio 2\n",
    "q1 = np.nanpercentile(df['Ex2_Salario(R$)'], 25)\n",
    "q2 = np.nanpercentile(df['Ex2_Salario(R$)'], 50)\n",
    "q3 = np.nanpercentile(df['Ex2_Salario(R$)'], 75)\n",
    "\n",
    "print(f\"\"\"\n",
    "    q1 : {q1}\n",
    "    q2 (Mediana) : {q2}\n",
    "    q3 : {q3}\n",
    "\"\"\")"
   ]
  },
  {
   "cell_type": "markdown",
   "id": "7370b36f-b928-40fe-992c-d772b3167685",
   "metadata": {},
   "source": [
    "2b) estar acima dos Q3 significa que este desenvolvedor é um outlier porque ganha mais que 75% dos outros desenvolvedores."
   ]
  },
  {
   "cell_type": "code",
   "execution_count": 22,
   "id": "7bc08102-1c9c-4128-a037-86f0ed6966c2",
   "metadata": {},
   "outputs": [
    {
     "name": "stdout",
     "output_type": "stream",
     "text": [
      "\n",
      "    q1 : 64.0\n",
      "    q2 (Mediana) : 76.0\n",
      "    q3 : 88.0\n",
      "\n"
     ]
    }
   ],
   "source": [
    "# exercicio 3\n",
    "q1 = np.nanpercentile(df['Ex3_Nota'], 25)\n",
    "q2 = np.nanpercentile(df['Ex3_Nota'], 50)\n",
    "q3 = np.nanpercentile(df['Ex3_Nota'], 75)\n",
    "\n",
    "print(f\"\"\"\n",
    "    q1 : {q1}\n",
    "    q2 (Mediana) : {q2}\n",
    "    q3 : {q3}\n",
    "\"\"\")"
   ]
  },
  {
   "cell_type": "markdown",
   "id": "cdfdbb60-6345-4b9a-b12e-6bd4c9e81f93",
   "metadata": {},
   "source": [
    "3b) O professor pode usar o Q1 para descobrir quais alunos estão abaixo da mediana e provavelmente precisa de um reforço, para o Q3 ela pode usar para descobrir quais alunos não precisam de reforço e podem ajudar as pessoas que estão no Q1."
   ]
  },
  {
   "cell_type": "code",
   "execution_count": null,
   "id": "bba1fb3d-b3e5-4528-85ea-59b71e23e28d",
   "metadata": {},
   "outputs": [],
   "source": []
  }
 ],
 "metadata": {
  "kernelspec": {
   "display_name": "Python 3 (ipykernel)",
   "language": "python",
   "name": "python3"
  },
  "language_info": {
   "codemirror_mode": {
    "name": "ipython",
    "version": 3
   },
   "file_extension": ".py",
   "mimetype": "text/x-python",
   "name": "python",
   "nbconvert_exporter": "python",
   "pygments_lexer": "ipython3",
   "version": "3.13.7"
  }
 },
 "nbformat": 4,
 "nbformat_minor": 5
}
